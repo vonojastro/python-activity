{
 "cells": [
  {
   "cell_type": "markdown",
   "metadata": {},
   "source": [
    "### Assignment-1 : Part-1 "
   ]
  },
  {
   "cell_type": "markdown",
   "metadata": {},
   "source": [
    "#### Question-1: (5 Marks) \n",
    "\n",
    "Take employee id(integer), employee name(string) and salary(float) details of 4 employees from user. Calculate Bonus for the employees. It Should be calculated as follows: \n",
    "1.Declare no bonus message if the salary is <5000 \n",
    "2.Give 25% bonus if the salary is between 5000 to 10000 \n",
    "3.Give 20% bonus if the salary is between 10001 to 20001 \n",
    "4.Give 10% bonus for all others "
   ]
  },
  {
   "cell_type": "code",
   "execution_count": 1,
   "metadata": {},
   "outputs": [
    {
     "name": "stdout",
     "output_type": "stream",
     "text": [
      "Enter details for employee 1:\n",
      "Employee ID: 1\n",
      "Employee Name: von\n",
      "Employee Salary: 4000\n",
      "Enter details for employee 2:\n",
      "Employee ID: 2\n",
      "Employee Name: von2\n",
      "Employee Salary: 6000\n",
      "Enter details for employee 3:\n",
      "Employee ID: 3\n",
      "Employee Name: von3\n",
      "Employee Salary: 12000\n",
      "Enter details for employee 4:\n",
      "Employee ID: 4\n",
      "Employee Name: von4\n",
      "Employee Salary: 21000\n",
      "\n",
      "Employee Details with Bonus:\n",
      "Employee ID: 1, Employee Name: von, Salary: 4000.0, Bonus: No bonus\n",
      "Employee ID: 2, Employee Name: von2, Salary: 6000.0, Bonus: 1500.0\n",
      "Employee ID: 3, Employee Name: von3, Salary: 12000.0, Bonus: 2400.0\n",
      "Employee ID: 4, Employee Name: von4, Salary: 21000.0, Bonus: 2100.0\n"
     ]
    }
   ],
   "source": [
    "def calculate_bonus(salary):\n",
    "    if salary < 5000:\n",
    "        return \"No bonus\"\n",
    "    elif 5000 <= salary <= 10000:\n",
    "        return salary * round(0.25, 2)\n",
    "    elif 10001 <= salary <= 20000:\n",
    "        return salary * round(0.20, 2)\n",
    "    else:\n",
    "        return salary * round(0.10, 2)\n",
    "employee_details = []\n",
    "for i in range(1, 5):\n",
    "    print(f\"Enter details for employee {i}:\")\n",
    "    emp_id = int(input(\"Employee ID: \"))\n",
    "    emp_name = input(\"Employee Name: \")\n",
    "    emp_salary = float(input(\"Employee Salary: \"))\n",
    "    employee_details.append((emp_id, emp_name, emp_salary))\n",
    "print(\"\\nEmployee Details with Bonus:\")\n",
    "for emp_id, emp_name, emp_salary in employee_details:\n",
    "    bonus = calculate_bonus(emp_salary)\n",
    "    print(f\"Employee ID: {emp_id}, Employee Name: {emp_name}, Salary: {emp_salary}, Bonus: {bonus}\")"
   ]
  },
  {
   "cell_type": "markdown",
   "metadata": {},
   "source": [
    "#### Question 2: (5 Marks) \n",
    "Write a program that accepts a sequence of whitespace separated words as input and prints the words after removing all duplicate words and sorting them alphanumerically. Input is as follows. \n",
    "\n",
    "Enter the Input: \n",
    "\n",
    "Amazon Black Friday Sales are already Live- here’s what to shop now"
   ]
  },
  {
   "cell_type": "code",
   "execution_count": 2,
   "metadata": {
    "scrolled": true
   },
   "outputs": [
    {
     "name": "stdout",
     "output_type": "stream",
     "text": [
      "Amazon Black Friday Sales are already Live- here’s what to shop nowAmazon Black Friday Sales are already Live- here’s what to shop now\n",
      "Amazon Black Friday Live- Sales already are here’s now shop to what\n"
     ]
    }
   ],
   "source": [
    "s = input(\"Amazon Black Friday Sales are already Live- here’s what to shop now\")\n",
    "words = [word for word in s.split(\" \")]\n",
    "print(\" \".join(sorted(list(set(words)))))"
   ]
  },
  {
   "cell_type": "markdown",
   "metadata": {},
   "source": [
    "#### Question-3 ( 5 Marks) \n",
    "Oxford University is offereing MBA courses with the following specializations\n",
    "specializationlist=['HR','Operations','Strategy','Marketing','Finance'] \n",
    "Now Write a program to accept specialization preference from the user and check whether his/her choice is in the list of offered specialization or not using **conditional/loop/both statements.** \n",
    "Display the message \"yes we found the course at postion {}\" if it is in the list otherwise display \"no\". The execution must stop whenever the match occurs. It must also display the position of  the input in the list. \n",
    "Even if the user provides say \"hr\" instead of HR it should display yes message. Means the user input needs to be case insensitive "
   ]
  },
  {
   "cell_type": "code",
   "execution_count": 3,
   "metadata": {},
   "outputs": [
    {
     "name": "stdout",
     "output_type": "stream",
     "text": [
      "the input string is: operations\n",
      "Yes we found the course operations at position 2\n"
     ]
    }
   ],
   "source": [
    "specialization_list = ['HR', 'Operations', 'Strategy', 'Marketing', 'Finance']\n",
    "\n",
    "input_user = input(\"the input string is: \")\n",
    "\n",
    "found = False\n",
    "for index, specialization in enumerate(specialization_list):\n",
    "    if input_user.lower() == specialization.lower():\n",
    "        print(f\"Yes we found the course {input_user} at position {index + 1}\")\n",
    "        found = True\n",
    "        break\n",
    "\n",
    "if not found:\n",
    "    print(\"No course hr is not matching with the user input operations\")\n"
   ]
  },
  {
   "cell_type": "markdown",
   "metadata": {},
   "source": [
    "### Assignment-1: Part2 "
   ]
  },
  {
   "cell_type": "markdown",
   "metadata": {},
   "source": [
    "#### Question-1-10 Marks \n",
    "Create a function email_to_fullname(email) which accepts email as a string input parameter and returns a string containing the last and first name separated by a comma. Note that output string should be uppercase "
   ]
  },
  {
   "cell_type": "code",
   "execution_count": 4,
   "metadata": {},
   "outputs": [
    {
     "name": "stdout",
     "output_type": "stream",
     "text": [
      "DAVIS, MIKE\n"
     ]
    }
   ],
   "source": [
    "import pandas as pd\n",
    "\n",
    "data = {'email': ['mark@example.com', 'sara@example.com', 'peter@example.com', 'lisa@example.com',\n",
    "                  'mike@example.com', 'emily@example.com', 'james@example.com', 'linda@example.com',\n",
    "                  'chris@example.com', 'amy@example.com'],\n",
    "        'name': ['Mark Miller', 'Sara Johnson', 'Peter Smith', 'Lisa White', 'Mike Davis',\n",
    "                 'Emily Wilson', 'James Brown', 'Linda Taylor', 'Chris Anderson', 'Amy Johnson']}\n",
    "table = pd.DataFrame(data)\n",
    "\n",
    "def email_to_fullname(email):\n",
    "    matching_row = table[table['email'] == email.lower()]  \n",
    "    if not matching_row.empty:\n",
    "        full_name = matching_row['name'].values[0]\n",
    "        first_name, last_name = full_name.split(' ', 1)\n",
    "        result = f\"{last_name}, {first_name}\".upper()\n",
    "        return result\n",
    "    else:\n",
    "        return \"Email not found in the table\"\n",
    "\n",
    "email_input = 'mike@example.com'\n",
    "output = email_to_fullname(email_input)\n",
    "print(output)\n"
   ]
  },
  {
   "cell_type": "markdown",
   "metadata": {},
   "source": [
    "#### Question-2:Marks 10 \n",
    "Generate a dictionary which when converted to a pandas data frame, produces the output given below. \n",
    "\n",
    " "
   ]
  },
  {
   "cell_type": "code",
   "execution_count": 5,
   "metadata": {
    "scrolled": true
   },
   "outputs": [
    {
     "data": {
      "text/html": [
       "<div>\n",
       "<style scoped>\n",
       "    .dataframe tbody tr th:only-of-type {\n",
       "        vertical-align: middle;\n",
       "    }\n",
       "\n",
       "    .dataframe tbody tr th {\n",
       "        vertical-align: top;\n",
       "    }\n",
       "\n",
       "    .dataframe thead th {\n",
       "        text-align: right;\n",
       "    }\n",
       "</style>\n",
       "<table border=\"1\" class=\"dataframe\">\n",
       "  <thead>\n",
       "    <tr style=\"text-align: right;\">\n",
       "      <th></th>\n",
       "      <th>Adobe</th>\n",
       "      <th>Amazon</th>\n",
       "      <th>Amdocs</th>\n",
       "    </tr>\n",
       "  </thead>\n",
       "  <tbody>\n",
       "    <tr>\n",
       "      <th>Net income</th>\n",
       "      <td>US$2.95 billion (2019)</td>\n",
       "      <td>US$11.588 billion (2019)</td>\n",
       "      <td>US$11.588 billion (2019)</td>\n",
       "    </tr>\n",
       "    <tr>\n",
       "      <th>Operating income</th>\n",
       "      <td>US$3.27 billion (2019)</td>\n",
       "      <td>US$14.541 billion (2019)</td>\n",
       "      <td>US$14.541 billion (2019)</td>\n",
       "    </tr>\n",
       "    <tr>\n",
       "      <th>Revenue</th>\n",
       "      <td>US$11.17 billion (2019)</td>\n",
       "      <td>US$280.522 billion (2019)</td>\n",
       "      <td>US$280.522 billion (2019)</td>\n",
       "    </tr>\n",
       "    <tr>\n",
       "      <th>Total assets</th>\n",
       "      <td>US$20.76 billion (2019)</td>\n",
       "      <td>US$225.248 billion (2019)</td>\n",
       "      <td>US$225.248 billion (2019)</td>\n",
       "    </tr>\n",
       "  </tbody>\n",
       "</table>\n",
       "</div>"
      ],
      "text/plain": [
       "                                    Adobe                     Amazon  \\\n",
       "Net income         US$2.95 billion (2019)   US$11.588 billion (2019)   \n",
       "Operating income   US$3.27 billion (2019)   US$14.541 billion (2019)   \n",
       "Revenue           US$11.17 billion (2019)  US$280.522 billion (2019)   \n",
       "Total assets      US$20.76 billion (2019)  US$225.248 billion (2019)   \n",
       "\n",
       "                                     Amdocs  \n",
       "Net income         US$11.588 billion (2019)  \n",
       "Operating income   US$14.541 billion (2019)  \n",
       "Revenue           US$280.522 billion (2019)  \n",
       "Total assets      US$225.248 billion (2019)  "
      ]
     },
     "execution_count": 5,
     "metadata": {},
     "output_type": "execute_result"
    }
   ],
   "source": [
    "import pandas as pd\n",
    "\n",
    "data = {\n",
    "    \"Adobe\": [\"US$2.95 billion (2019)\", \"US$3.27 billion (2019)\", \"US$11.17 billion (2019)\", \"US$20.76 billion (2019)\"],\n",
    "    \"Amazon\": [\"US$11.588 billion (2019)\", \"US$14.541 billion (2019)\", \"US$280.522 billion (2019)\", \"US$225.248 billion (2019)\"],\n",
    "    \"Amdocs\": [\"US$11.588 billion (2019)\", \"US$14.541 billion (2019)\", \"US$280.522 billion (2019)\", \"US$225.248 billion (2019)\"],\n",
    "}\n",
    "\n",
    "financial_metrics = [\"Net income\", \"Operating income\", \"Revenue\", \"Total assets\"]\n",
    "\n",
    "financial_table = pd.DataFrame(data, index=financial_metrics)\n",
    "\n",
    "financial_table\n"
   ]
  },
  {
   "cell_type": "markdown",
   "metadata": {},
   "source": [
    "#### Question-3-Marks 10 \n",
    "Create a new text file called strategy.txt and write the following lines using file commands: \n",
    "\n",
    "A business strategy creates a vision and direction for the whole organization. \n",
    "It is important that all people within a company have clear goals and are following the direction, or mission of the organization. \n",
    "\n",
    "Then do the following operations: "
   ]
  },
  {
   "cell_type": "markdown",
   "metadata": {},
   "source": [
    "##### Display the contents of the file "
   ]
  },
  {
   "cell_type": "code",
   "execution_count": 6,
   "metadata": {},
   "outputs": [
    {
     "name": "stdout",
     "output_type": "stream",
     "text": [
      "A business strategy creates a vision and direction for the whole organization.\n",
      "It is important that all people within a company have clear goals and are following the direction, or mission of the organization.\n"
     ]
    }
   ],
   "source": [
    "with open('strategy.txt', 'w') as file:\n",
    "  file.write(\"A business strategy creates a vision and direction for the whole organization.\\n\")\n",
    "  file.write(\"It is important that all people within a company have clear goals and are following the direction, or mission of the organization.\")\n",
    "    \n",
    "with open('strategy.txt', 'r') as file:\n",
    "  contents = file.read()\n",
    "  print(contents)"
   ]
  },
  {
   "cell_type": "markdown",
   "metadata": {},
   "source": [
    "##### Now append the sentence – “This is the final statement” "
   ]
  },
  {
   "cell_type": "code",
   "execution_count": 7,
   "metadata": {},
   "outputs": [
    {
     "name": "stdout",
     "output_type": "stream",
     "text": [
      "A business strategy creates a vision and direction for the whole organization.\n",
      "It is important that all people within a company have clear goals and are following the direction, or mission of the organization. This is the final statement.\n"
     ]
    }
   ],
   "source": [
    "with open(\"strategy.txt\", \"a\") as file:\n",
    "  file.write(\" This is the final statement.\")\n",
    "\n",
    "with open(\"strategy.txt\", \"r\") as file:\n",
    "    contents = file.read()\n",
    "    print(contents)"
   ]
  },
  {
   "cell_type": "markdown",
   "metadata": {},
   "source": [
    "##### Now find the current cursor position in the file."
   ]
  },
  {
   "cell_type": "code",
   "execution_count": 8,
   "metadata": {},
   "outputs": [
    {
     "name": "stdout",
     "output_type": "stream",
     "text": [
      "\n",
      "The current cursor position is: 238\n"
     ]
    }
   ],
   "source": [
    "with open('strategy.txt', 'r') as file:\n",
    "    str_content = file.read()\n",
    "    cursor_position = file.tell()\n",
    "    print(f\"\\nThe current cursor position is: {cursor_position}\")\n"
   ]
  },
  {
   "cell_type": "markdown",
   "metadata": {},
   "source": [
    "##### Now bring back the file cursor into 12th position. "
   ]
  },
  {
   "cell_type": "code",
   "execution_count": 9,
   "metadata": {},
   "outputs": [
    {
     "name": "stdout",
     "output_type": "stream",
     "text": [
      "\n",
      "Move the cursor to 12th position\n"
     ]
    }
   ],
   "source": [
    "with open('strategy.txt', 'r') as file:\n",
    "  file.seek(12)\n",
    "  cursor_position_after_move = file.tell()\n",
    "  print(f\"\\nMove the cursor to {cursor_position_after_move}th position\")"
   ]
  },
  {
   "cell_type": "markdown",
   "metadata": {},
   "source": [
    "#### Question 4: Marks 20\n",
    "Your task for this question is to complete the next_holiday(year,month,day) function. This function accepts three integer inputs representing a year, month, and a day and must return a two-element list containing a string with the name of the next Ontario statutory holiday and an integer representing the number of days until that holiday. The string with the name of the holiday should be all lower-case characters. The names of the holidays are given in the table below. To better understand the problem, consider the following example:  \n",
    "\n",
    " >next_holiday(2020,2,3)\n",
    "\n",
    "In this case, the input represents the date February 3rd , 2020. The next statutory holiday after this date is Family day on February 17th. So, for this input, our function would return the following list: [‘family day’, 14]  \n",
    "The first element in the returned list is a string with the name of the holiday. Note that all the characters in the string are lower-case. The second element in the list is the number of days until Family day.   \n",
    "To simplify the problem, we will assume that all holidays will fall on the same date each year and we will use the 2020 dates. A list of all the statutory holidays and their corresponding date’s are given below. \n",
    " \n",
    "Condition-1: \n",
    "Your function should check for leap years and adjust results appropriately. A year is a leap year if it satisfies one of the following conditions:  \n",
    "* The year can be evenly divided by 4 and cannot be evenly divided by 100, or  \n",
    "* The year is evenly divisible by 400.  \n",
    "For example, 1996 is a leap year because it satisfies condition 1, 2009 is not a leap year because it satisfies neither condition, and 2000 is a leap year because it satisfies condition 2.  \n",
    "Condition-2: \n",
    "If the function is passed an invalid entry for the month or the day, the program should return ['invalid month',-1] or ['invalid day',-1], respectively. If passed both an invalid month and an invalid day, the program should return ['invalid month',-1].  \n"
   ]
  },
  {
   "cell_type": "code",
   "execution_count": 10,
   "metadata": {},
   "outputs": [
    {
     "name": "stdout",
     "output_type": "stream",
     "text": [
      "2019-01-01: ['invalid year', -1]\n",
      "2019-02-01: ['invalid year', -1]\n",
      "2019-03-01: ['invalid year', -1]\n",
      "2019-04-01: ['invalid year', -1]\n",
      "2019-05-01: ['invalid year', -1]\n",
      "2019-06-01: ['invalid year', -1]\n",
      "2019-07-01: ['invalid year', -1]\n",
      "2019-08-01: ['invalid year', -1]\n",
      "2019-09-01: ['invalid year', -1]\n",
      "2019-10-01: ['invalid year', -1]\n",
      "2019-11-01: ['invalid year', -1]\n",
      "2019-12-01: ['invalid year', -1]\n",
      "2020-01-01: ['new year’s day', 0]\n",
      "2020-02-01: ['family day', 16]\n",
      "2020-03-01: ['good friday', 40]\n",
      "2020-04-01: ['good friday', 9]\n",
      "2020-05-01: ['victoria day', 17]\n",
      "2020-06-01: ['canada day', 30]\n",
      "2020-07-01: ['canada day', 0]\n",
      "2020-08-01: ['civic holiday', 2]\n",
      "2020-09-01: ['labor day', 6]\n",
      "2020-10-01: ['thanksgiving day', 11]\n",
      "2020-11-01: ['christmas day', 54]\n",
      "2020-12-01: ['christmas day', 24]\n"
     ]
    }
   ],
   "source": [
    "from datetime import datetime\n",
    "\n",
    "def is_leap_year(year):\n",
    "    return (year % 4 == 0 and year % 100 != 0) or (year % 400 == 0)\n",
    "\n",
    "def next_holiday(year, month, day):\n",
    "    holidays = {\n",
    "        'new year’s day': 'Jan 1',\n",
    "        'family day': 'Feb 17',\n",
    "        'good friday': 'Apr 10',\n",
    "        'victoria day': 'May 18',\n",
    "        'canada day': 'Jul 1',\n",
    "        'civic holiday': 'Aug 3',\n",
    "        'labor day': 'Sep 7',\n",
    "        'thanksgiving day': 'Oct 12',\n",
    "        'christmas day': 'Dec 25',\n",
    "        'boxing day': 'Dec 26'\n",
    "    }\n",
    "\n",
    "    input_date = None\n",
    "\n",
    "    try:\n",
    "        if year > 2020 or year < 2020:\n",
    "            return ['invalid year', -1]\n",
    "\n",
    "        input_date = datetime(year, month, day)\n",
    "    except ValueError:\n",
    "        if month < 1 or month > 12:\n",
    "            return ['invalid month', -1]\n",
    "        elif day < 1 or day > 31:\n",
    "            return ['invalid day', -1]\n",
    "\n",
    "    if input_date is None:\n",
    "        return ['invalid date', -1]\n",
    "\n",
    "    for holiday, date_str in holidays.items():\n",
    "        holiday_date = datetime(year, datetime.strptime(date_str, '%b %d').month, datetime.strptime(date_str, '%b %d').day)\n",
    "        if holiday_date >= input_date:\n",
    "            days_until_holiday = (holiday_date - input_date).days\n",
    "            return [holiday, days_until_holiday]\n",
    "\n",
    "\n",
    "for year in range(2019, 2021):  \n",
    "    for month in range(1, 13):\n",
    "        day = 1 \n",
    "        result = next_holiday(year, month, day)\n",
    "        print(f\"{year}-{month:02d}-{day:02d}: {result}\")\n"
   ]
  },
  {
   "cell_type": "markdown",
   "metadata": {},
   "source": [
    "### Assignment -1: Part-3"
   ]
  },
  {
   "cell_type": "markdown",
   "metadata": {},
   "source": [
    "#### Question -1: Total Marks: 7 \n",
    "Create a dictionary 'd' using dict() function and then import it in Pandas data frame. The keys and values are as follows \n",
    "\n",
    "'World Health Organization' -> 'Switzerland' \n",
    "'UNICEF' -> 'USA' \n",
    "'UNESCO'-> 'France' \n",
    "\n",
    "Make ‘Organization’ column as a  new index "
   ]
  },
  {
   "cell_type": "code",
   "execution_count": 11,
   "metadata": {},
   "outputs": [
    {
     "data": {
      "text/html": [
       "<div>\n",
       "<style scoped>\n",
       "    .dataframe tbody tr th:only-of-type {\n",
       "        vertical-align: middle;\n",
       "    }\n",
       "\n",
       "    .dataframe tbody tr th {\n",
       "        vertical-align: top;\n",
       "    }\n",
       "\n",
       "    .dataframe thead th {\n",
       "        text-align: right;\n",
       "    }\n",
       "</style>\n",
       "<table border=\"1\" class=\"dataframe\">\n",
       "  <thead>\n",
       "    <tr style=\"text-align: right;\">\n",
       "      <th></th>\n",
       "      <th>Head Quarters</th>\n",
       "    </tr>\n",
       "    <tr>\n",
       "      <th>Organization</th>\n",
       "      <th></th>\n",
       "    </tr>\n",
       "  </thead>\n",
       "  <tbody>\n",
       "    <tr>\n",
       "      <th>World Health Organization</th>\n",
       "      <td>Switzerland</td>\n",
       "    </tr>\n",
       "    <tr>\n",
       "      <th>UNICEF</th>\n",
       "      <td>USA</td>\n",
       "    </tr>\n",
       "    <tr>\n",
       "      <th>UNESCO</th>\n",
       "      <td>France</td>\n",
       "    </tr>\n",
       "  </tbody>\n",
       "</table>\n",
       "</div>"
      ],
      "text/plain": [
       "                          Head Quarters\n",
       "Organization                           \n",
       "World Health Organization   Switzerland\n",
       "UNICEF                              USA\n",
       "UNESCO                           France"
      ]
     },
     "execution_count": 11,
     "metadata": {},
     "output_type": "execute_result"
    }
   ],
   "source": [
    "import pandas as pd\n",
    "\n",
    "d = dict(zip(['World Health Organization', 'UNICEF', 'UNESCO'], ['Switzerland', 'USA', 'France']))\n",
    "\n",
    "df = pd.DataFrame(list(d.items()), columns=['Organization', 'Head Quarters'])\n",
    "\n",
    "df.set_index('Organization', inplace=True)\n",
    "\n",
    "df\n"
   ]
  },
  {
   "cell_type": "markdown",
   "metadata": {},
   "source": [
    "#### Question 2: Difficulty Level-3 \n",
    "Each Task carries 4 Marks \n",
    "Total Marks: 7 * 4 -= 28 \n",
    "\n",
    "Data for this question can be found in \"online-retail.xlsx\" This dataset is used for all tasks in this question \n",
    " \n",
    "Assume that you are a data scientist in Amazon. Since the company is celebrating Silver Jubilee this year, it has decided to reward their customers. Your Manager handed over last 2 years retail data and asked you to do certain tasks. The tasks are as follows: \n",
    "\n",
    " \n",
    "##### Task-1: \n",
    " \n",
    "As you are not familiar with the data provided by your manager, you want to start exploring from InvoiceNo and Stockcode. Print the first 5 rows of InvoiceNo and Stockcode and store it in a data frame “dfnew”. The expected output is as follows: \n"
   ]
  },
  {
   "cell_type": "code",
   "execution_count": 12,
   "metadata": {},
   "outputs": [
    {
     "data": {
      "text/html": [
       "<div>\n",
       "<style scoped>\n",
       "    .dataframe tbody tr th:only-of-type {\n",
       "        vertical-align: middle;\n",
       "    }\n",
       "\n",
       "    .dataframe tbody tr th {\n",
       "        vertical-align: top;\n",
       "    }\n",
       "\n",
       "    .dataframe thead th {\n",
       "        text-align: right;\n",
       "    }\n",
       "</style>\n",
       "<table border=\"1\" class=\"dataframe\">\n",
       "  <thead>\n",
       "    <tr style=\"text-align: right;\">\n",
       "      <th></th>\n",
       "      <th>InvoiceNo</th>\n",
       "      <th>StockCode</th>\n",
       "    </tr>\n",
       "  </thead>\n",
       "  <tbody>\n",
       "    <tr>\n",
       "      <th>0</th>\n",
       "      <td>536365</td>\n",
       "      <td>85123A</td>\n",
       "    </tr>\n",
       "    <tr>\n",
       "      <th>1</th>\n",
       "      <td>536365</td>\n",
       "      <td>71053</td>\n",
       "    </tr>\n",
       "    <tr>\n",
       "      <th>2</th>\n",
       "      <td>536365</td>\n",
       "      <td>84406B</td>\n",
       "    </tr>\n",
       "    <tr>\n",
       "      <th>3</th>\n",
       "      <td>536365</td>\n",
       "      <td>NaN</td>\n",
       "    </tr>\n",
       "    <tr>\n",
       "      <th>4</th>\n",
       "      <td>536365</td>\n",
       "      <td>NaN</td>\n",
       "    </tr>\n",
       "  </tbody>\n",
       "</table>\n",
       "</div>"
      ],
      "text/plain": [
       "  InvoiceNo StockCode\n",
       "0    536365    85123A\n",
       "1    536365     71053\n",
       "2    536365    84406B\n",
       "3    536365       NaN\n",
       "4    536365       NaN"
      ]
     },
     "execution_count": 12,
     "metadata": {},
     "output_type": "execute_result"
    }
   ],
   "source": [
    "import pandas as pd\n",
    "import numpy as np \n",
    "\n",
    "file_path = 'online-retail.xlsx'\n",
    "\n",
    "df = pd.read_excel(file_path)\n",
    "\n",
    "dfnew = df[['InvoiceNo', 'StockCode']].head()\n",
    "\n",
    "dfnew['StockCode'] = dfnew['StockCode'].fillna(\"NaN\")\n",
    "\n",
    "dfnew\n"
   ]
  },
  {
   "cell_type": "markdown",
   "metadata": {},
   "source": [
    "##### Task-2: Print only non-null values from dfnew using notnull() command in python."
   ]
  },
  {
   "cell_type": "code",
   "execution_count": 13,
   "metadata": {},
   "outputs": [
    {
     "data": {
      "text/html": [
       "<div>\n",
       "<style scoped>\n",
       "    .dataframe tbody tr th:only-of-type {\n",
       "        vertical-align: middle;\n",
       "    }\n",
       "\n",
       "    .dataframe tbody tr th {\n",
       "        vertical-align: top;\n",
       "    }\n",
       "\n",
       "    .dataframe thead th {\n",
       "        text-align: right;\n",
       "    }\n",
       "</style>\n",
       "<table border=\"1\" class=\"dataframe\">\n",
       "  <thead>\n",
       "    <tr style=\"text-align: right;\">\n",
       "      <th></th>\n",
       "      <th>InvoiceNo</th>\n",
       "      <th>StockCode</th>\n",
       "    </tr>\n",
       "  </thead>\n",
       "  <tbody>\n",
       "    <tr>\n",
       "      <th>0</th>\n",
       "      <td>536365</td>\n",
       "      <td>85123A</td>\n",
       "    </tr>\n",
       "    <tr>\n",
       "      <th>1</th>\n",
       "      <td>536365</td>\n",
       "      <td>71053</td>\n",
       "    </tr>\n",
       "    <tr>\n",
       "      <th>2</th>\n",
       "      <td>536365</td>\n",
       "      <td>84406B</td>\n",
       "    </tr>\n",
       "  </tbody>\n",
       "</table>\n",
       "</div>"
      ],
      "text/plain": [
       "  InvoiceNo StockCode\n",
       "0    536365    85123A\n",
       "1    536365     71053\n",
       "2    536365    84406B"
      ]
     },
     "execution_count": 13,
     "metadata": {},
     "output_type": "execute_result"
    }
   ],
   "source": [
    "import pandas as pd\n",
    "\n",
    "file_path = 'online-retail.xlsx'\n",
    "df = pd.read_excel(file_path)\n",
    "\n",
    "dfnew = df[['InvoiceNo', 'StockCode']].head()\n",
    "\n",
    "dfnew['StockCode'] = dfnew['StockCode'].fillna(\"NaN\")\n",
    "\n",
    "non_null_df = dfnew[dfnew['StockCode'] != \"NaN\"]\n",
    "\n",
    "non_null_df\n"
   ]
  },
  {
   "cell_type": "markdown",
   "metadata": {},
   "source": [
    "##### Task-3: Data cleaning is the crucial part thus you decided to do some data cleaning now  \n",
    "There is a possibility that numerical data sometimes has negative values. Thus  you explored ‘Quantity’ column and found out that there are some negatives there. Count the number of negatives in ‘Quantity’ column."
   ]
  },
  {
   "cell_type": "code",
   "execution_count": 14,
   "metadata": {},
   "outputs": [
    {
     "name": "stdout",
     "output_type": "stream",
     "text": [
      "The number of negative values in Quantity column:\n",
      "False: 195\n",
      "True: 3\n",
      "\n",
      "Name: Quantity , dtype: float64\n"
     ]
    }
   ],
   "source": [
    "import pandas as pd\n",
    "\n",
    "file_path = 'online-retail.xlsx'\n",
    "df = pd.read_excel(file_path)\n",
    "\n",
    "dfnew = df[['InvoiceNo', 'StockCode']].head()\n",
    "\n",
    "dfnew['StockCode'] = dfnew['StockCode'].fillna(\"NaN\")\n",
    "\n",
    "non_null_df = dfnew[dfnew['StockCode'] != \"NaN\"]\n",
    "\n",
    "positive_count = (df['Quantity'] > 0).sum()\n",
    "negative_count = (df['Quantity'] < 0).sum()\n",
    "\n",
    "print(\"The number of negative values in Quantity column:\")\n",
    "print(\"False:\", positive_count)\n",
    "print(\"True:\", negative_count)\n",
    "\n",
    "quantity_column_name = 'Quantity'\n",
    "quantity_column_dtype = df[quantity_column_name].dtype\n",
    "\n",
    "print(\"\\nName:\", quantity_column_name, \", dtype:\", quantity_column_dtype)\n",
    "\n"
   ]
  },
  {
   "cell_type": "markdown",
   "metadata": {},
   "source": [
    "##### Task-4: Now change the negative values found in ‘Quantity’ column to positive values by applying suitable python code. The final output should be the one as follows "
   ]
  },
  {
   "cell_type": "code",
   "execution_count": 15,
   "metadata": {},
   "outputs": [
    {
     "name": "stdout",
     "output_type": "stream",
     "text": [
      "\n",
      "The number of negative values in Quantity column after updating:\n",
      "False: 198\n",
      "\n",
      "Name: Quantity , dtype: float64\n"
     ]
    }
   ],
   "source": [
    "import pandas as pd\n",
    "\n",
    "file_path = 'online-retail.xlsx'\n",
    "df = pd.read_excel(file_path)\n",
    "\n",
    "positive_count = (df['Quantity'] > 0).sum()\n",
    "negative_count = (df['Quantity'] < 0).sum()\n",
    "\n",
    "df['Quantity'] = df['Quantity'].abs()\n",
    "\n",
    "positive_count_updated = (df['Quantity'] > 0).sum()\n",
    "negative_count_updated = (df['Quantity'] < 0).sum()\n",
    "\n",
    "print(\"\\nThe number of negative values in Quantity column after updating:\")\n",
    "print(\"False:\", positive_count_updated)\n",
    "\n",
    "quantity_column_name = 'Quantity'\n",
    "quantity_column_dtype = df[quantity_column_name].dtype\n",
    "\n",
    "print(\"\\nName:\", quantity_column_name, \", dtype:\", quantity_column_dtype)\n",
    "\n"
   ]
  },
  {
   "cell_type": "markdown",
   "metadata": {},
   "source": [
    "##### Task-5: \n",
    "To continue with the data cleaning, you want to find is there any null values in the whole data set. Apply suitable command to count the null values in the whole data set. The expected output is as follows "
   ]
  },
  {
   "cell_type": "code",
   "execution_count": 16,
   "metadata": {},
   "outputs": [
    {
     "name": "stdout",
     "output_type": "stream",
     "text": [
      "Number of null values in each column:\n",
      "InvoiceNo      0\n",
      "StockCode      5\n",
      "Description    0\n",
      "Quantity       1\n",
      "InvoiceDate    4\n",
      "UnitPrice      0\n",
      "CustomerID     0\n",
      "Country        0\n",
      "dtype: int64\n"
     ]
    }
   ],
   "source": [
    "import pandas as pd\n",
    "\n",
    "file_path = 'online-retail.xlsx'\n",
    "df = pd.read_excel(file_path)\n",
    "\n",
    "null_counts = df.isnull().sum()\n",
    "\n",
    "print(\"Number of null values in each column:\")\n",
    "print(null_counts)\n"
   ]
  },
  {
   "cell_type": "markdown",
   "metadata": {},
   "source": [
    "##### Task-6: \n",
    "As there is only one null value in the ‘Quantity’ column you want to replace that null value by the average of Quantity column. Find the ‘Quantity’ column average and then replace the null value by that."
   ]
  },
  {
   "cell_type": "code",
   "execution_count": 17,
   "metadata": {},
   "outputs": [
    {
     "name": "stdout",
     "output_type": "stream",
     "text": [
      "\n",
      "Average value of 'Quantity' column is:\n",
      " 19.085858585858585\n",
      "\n",
      "Number of null values in 'Quantity' column after updating:\n",
      " 0\n"
     ]
    }
   ],
   "source": [
    "import pandas as pd\n",
    "\n",
    "file_path = 'online-retail.xlsx'\n",
    "df = pd.read_excel(file_path)\n",
    "\n",
    "null_counts = df.isnull().sum()\n",
    "\n",
    "\n",
    "quantity_avg = df['Quantity'].mean()\n",
    "\n",
    "df['Quantity'].fillna(quantity_avg, inplace=True)\n",
    "\n",
    "updated_null_counts = df['Quantity'].isnull().sum()\n",
    "\n",
    "print(\"\\nAverage value of 'Quantity' column is:\\n\", quantity_avg)\n",
    "print(\"\\nNumber of null values in 'Quantity' column after updating:\\n\", updated_null_counts)\n"
   ]
  },
  {
   "cell_type": "markdown",
   "metadata": {},
   "source": [
    "##### Task-7: Group the data based on “InvoiceNo” column. Then display the first five rows Expected result is as follows: "
   ]
  },
  {
   "cell_type": "code",
   "execution_count": 18,
   "metadata": {
    "scrolled": true
   },
   "outputs": [
    {
     "data": {
      "text/html": [
       "<div>\n",
       "<style scoped>\n",
       "    .dataframe tbody tr th:only-of-type {\n",
       "        vertical-align: middle;\n",
       "    }\n",
       "\n",
       "    .dataframe tbody tr th {\n",
       "        vertical-align: top;\n",
       "    }\n",
       "\n",
       "    .dataframe thead th {\n",
       "        text-align: right;\n",
       "    }\n",
       "</style>\n",
       "<table border=\"1\" class=\"dataframe\">\n",
       "  <thead>\n",
       "    <tr style=\"text-align: right;\">\n",
       "      <th></th>\n",
       "      <th>InvoiceNo</th>\n",
       "      <th>StockCode</th>\n",
       "      <th>Description</th>\n",
       "      <th>Quantity</th>\n",
       "      <th>InvoiceDate</th>\n",
       "      <th>UnitPrice</th>\n",
       "      <th>CustomerID</th>\n",
       "      <th>Country</th>\n",
       "    </tr>\n",
       "  </thead>\n",
       "  <tbody>\n",
       "    <tr>\n",
       "      <th>0</th>\n",
       "      <td>536365</td>\n",
       "      <td>3</td>\n",
       "      <td>7</td>\n",
       "      <td>7</td>\n",
       "      <td>7</td>\n",
       "      <td>7</td>\n",
       "      <td>7</td>\n",
       "      <td>7</td>\n",
       "    </tr>\n",
       "    <tr>\n",
       "      <th>1</th>\n",
       "      <td>536366</td>\n",
       "      <td>1</td>\n",
       "      <td>2</td>\n",
       "      <td>2</td>\n",
       "      <td>2</td>\n",
       "      <td>2</td>\n",
       "      <td>2</td>\n",
       "      <td>2</td>\n",
       "    </tr>\n",
       "    <tr>\n",
       "      <th>2</th>\n",
       "      <td>536367</td>\n",
       "      <td>12</td>\n",
       "      <td>12</td>\n",
       "      <td>12</td>\n",
       "      <td>12</td>\n",
       "      <td>12</td>\n",
       "      <td>12</td>\n",
       "      <td>12</td>\n",
       "    </tr>\n",
       "    <tr>\n",
       "      <th>3</th>\n",
       "      <td>536368</td>\n",
       "      <td>4</td>\n",
       "      <td>4</td>\n",
       "      <td>4</td>\n",
       "      <td>4</td>\n",
       "      <td>4</td>\n",
       "      <td>4</td>\n",
       "      <td>4</td>\n",
       "    </tr>\n",
       "    <tr>\n",
       "      <th>4</th>\n",
       "      <td>536369</td>\n",
       "      <td>1</td>\n",
       "      <td>1</td>\n",
       "      <td>1</td>\n",
       "      <td>1</td>\n",
       "      <td>1</td>\n",
       "      <td>1</td>\n",
       "      <td>1</td>\n",
       "    </tr>\n",
       "  </tbody>\n",
       "</table>\n",
       "</div>"
      ],
      "text/plain": [
       "  InvoiceNo  StockCode  Description  Quantity  InvoiceDate  UnitPrice  \\\n",
       "0    536365          3            7         7            7          7   \n",
       "1    536366          1            2         2            2          2   \n",
       "2    536367         12           12        12           12         12   \n",
       "3    536368          4            4         4            4          4   \n",
       "4    536369          1            1         1            1          1   \n",
       "\n",
       "   CustomerID  Country  \n",
       "0           7        7  \n",
       "1           2        2  \n",
       "2          12       12  \n",
       "3           4        4  \n",
       "4           1        1  "
      ]
     },
     "execution_count": 18,
     "metadata": {},
     "output_type": "execute_result"
    }
   ],
   "source": [
    "import pandas as pd\n",
    "\n",
    "file_path = 'online-retail.xlsx'\n",
    "df = pd.read_excel(file_path)\n",
    "\n",
    "df = df.set_index('InvoiceNo')\n",
    "\n",
    "grouped_df = df.groupby('InvoiceNo').count().reset_index()\n",
    "\n",
    "grouped_df.head(5)\n"
   ]
  },
  {
   "cell_type": "code",
   "execution_count": null,
   "metadata": {},
   "outputs": [],
   "source": []
  },
  {
   "cell_type": "code",
   "execution_count": null,
   "metadata": {},
   "outputs": [],
   "source": []
  }
 ],
 "metadata": {
  "kernelspec": {
   "display_name": "Python 3 (ipykernel)",
   "language": "python",
   "name": "python3"
  },
  "language_info": {
   "codemirror_mode": {
    "name": "ipython",
    "version": 3
   },
   "file_extension": ".py",
   "mimetype": "text/x-python",
   "name": "python",
   "nbconvert_exporter": "python",
   "pygments_lexer": "ipython3",
   "version": "3.11.5"
  }
 },
 "nbformat": 4,
 "nbformat_minor": 4
}
